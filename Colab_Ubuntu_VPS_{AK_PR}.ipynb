{
  "nbformat": 4,
  "nbformat_minor": 0,
  "metadata": {
    "colab": {
      "name": "Colab Ubuntu VPS {AK PR}.ipynb",
      "provenance": [],
      "include_colab_link": true
    },
    "kernelspec": {
      "name": "python3",
      "display_name": "Python 3"
    },
    "language_info": {
      "name": "python"
    }
  },
  "cells": [
    {
      "cell_type": "markdown",
      "metadata": {
        "id": "view-in-github",
        "colab_type": "text"
      },
      "source": [
        "<a href=\"https://colab.research.google.com/github/cartejaune/FTX-API-Algotrading101/blob/main/Colab_Ubuntu_VPS_%7BAK_PR%7D.ipynb\" target=\"_parent\"><img src=\"https://colab.research.google.com/assets/colab-badge.svg\" alt=\"Open In Colab\"/></a>"
      ]
    },
    {
      "cell_type": "markdown",
      "metadata": {
        "id": "s786Sgp5mciO"
      },
      "source": [
        "#**Google Colab Ubuntu VPS**\n",
        "##by AK PR\n",
        "##**do not use this VPS to mine cryptocurrency or any other illegal actions**\n",
        "\n",
        "**Using this Google Colab notebook you will be able to create a Ubuntu VPS with XFCE4 or XFCE desktop Environment.**\n",
        "#Specifications:\n",
        "\n",
        "12 GB ram\n",
        "\n",
        "Nvidia Tesla gpu\n",
        "\n",
        "107 GB internal storage\n",
        "\n",
        "700mbps (fast.com) internet speed\n",
        "\n",
        "Ubuntu 18.04 LTS\n",
        "\n",
        "XFCE/XFCE4 Desktop Environment"
      ]
    },
    {
      "cell_type": "code",
      "metadata": {
        "cellView": "form",
        "id": "y6EuhJcSgzj6"
      },
      "source": [
        "#@title **[step 1] Create User**\n",
        "#@markdown Create a Username and Password\n",
        "\n",
        "import os\n",
        "\n",
        "username = \"akpr\" #@param {type:\"string\"}\n",
        "password = \"123456\" #@param {type:\"string\"}\n",
        "\n",
        "print(\"Creating a User and Setting it up\")\n",
        "\n",
        "# Creat user\n",
        "os.system(f\"useradd -m {username}\")\n",
        "\n",
        "# Add user to sudo group\n",
        "os.system(f\"adduser {username} sudo\")\n",
        "\n",
        "# Set password user to 'root'\n",
        "os.system(f\"echo '{username}:{password}' | sudo chpasswd\")\n",
        "\n",
        "# Change default shell from sh to bash\n",
        "os.system(\"sed -i 's/\\/bin\\/sh/\\/bin\\/bash/g' /etc/passwd\")\n",
        "\n",
        "print(\"1 User Successfully Created and Configured\")"
      ],
      "execution_count": null,
      "outputs": []
    },
    {
      "cell_type": "code",
      "metadata": {
        "id": "117c-mzdlN5q",
        "cellView": "form"
      },
      "source": [
        "#@title **[step 2] Create VPS and Setup Chrome Remote Desktop**\n",
        "#@markdown Installation Process takes 3-7 minutes to Complete\n",
        "\n",
        "import os\n",
        "import subprocess\n",
        "\n",
        "#@markdown  Go to this Link http://remotedesktop.google.com/headless\n",
        "#@markdown <br> and Copy Debian Linux CRP (you will need to paste a new CRP everytime)\n",
        "\n",
        "CRP = \"\" #@param {type:\"string\"}\n",
        "\n",
        "#@markdown Enter a 6 digits Pin\n",
        "Pin = 123456 #@param {type: \"integer\"}\n",
        "\n",
        "\n",
        "class CRD:\n",
        "    def __init__(self):\n",
        "        os.system(\"apt update\")\n",
        "        self.installCRD()\n",
        "        self.installDesktopEnvironment()\n",
        "        self.installGoogleChorme()\n",
        "        self.finish()\n",
        "\n",
        "    @staticmethod\n",
        "    def installCRD():\n",
        "        print(\"Installing and Setting Up Chrome Remote Desktop\")\n",
        "        subprocess.run(['wget', 'https://dl.google.com/linux/direct/chrome-remote-desktop_current_amd64.deb'], stdout=subprocess.PIPE)\n",
        "        subprocess.run(['dpkg', '--install', 'chrome-remote-desktop_current_amd64.deb'], stdout=subprocess.PIPE)\n",
        "        subprocess.run(['apt', 'install', '--assume-yes', '--fix-broken'], stdout=subprocess.PIPE)\n",
        "\n",
        "    @staticmethod\n",
        "    def installDesktopEnvironment():\n",
        "        print(\"Installing XFCE4 Desktop Environment\")\n",
        "        os.system(\"export DEBIAN_FRONTEND=noninteractive\")\n",
        "        os.system(\"apt install --assume-yes xfce4 desktop-base xfce4-terminal\")\n",
        "        os.system(\"bash -c 'echo \\\"exec /etc/X11/Xsession /usr/bin/xfce4-session\\\" > /etc/chrome-remote-desktop-session'\")\n",
        "        os.system(\"apt remove --assume-yes gnome-terminal\")\n",
        "        os.system(\"apt install --assume-yes xscreensaver\")\n",
        "        os.system(\"systemctl disable lightdm.service\")\n",
        "\n",
        "    @staticmethod\n",
        "    def installGoogleChorme():\n",
        "        print(\"Installing Chrome Browser\")\n",
        "        subprocess.run([\"wget\", \"https://dl.google.com/linux/direct/google-chrome-stable_current_amd64.deb\"], stdout=subprocess.PIPE)\n",
        "        subprocess.run([\"dpkg\", \"--install\", \"google-chrome-stable_current_amd64.deb\"], stdout=subprocess.PIPE)\n",
        "        subprocess.run(['apt', 'install', '--assume-yes', '--fix-broken'], stdout=subprocess.PIPE)\n",
        "\n",
        "    @staticmethod\n",
        "    def finish():\n",
        "        print(\"Finishing VPS Setup\")\n",
        "        os.system(f\"adduser {username} chrome-remote-desktop\")\n",
        "        command = f\"{CRP} --pin={Pin}\"\n",
        "        os.system(f\"su - {username} -c '{command}'\")\n",
        "        os.system(\"service chrome-remote-desktop start\")\n",
        "        print(\"Finished Settings Up VPS\")\n",
        "\n",
        "\n",
        "try:\n",
        "    if username:\n",
        "        if CRP == \"\":\n",
        "            print(\"Error no CRP found or invalid CRP Please Enter a valid CRP\")\n",
        "        elif len(str(Pin)) < 6:\n",
        "            print(\"Error no Pin found Please Enter a Pin equal or more than 6 digits\")\n",
        "        else:\n",
        "            CRD()\n",
        "except NameError as e:\n",
        "    print(\"Error no User found Please Complete step 1 first\")"
      ],
      "execution_count": null,
      "outputs": []
    }
  ]
}